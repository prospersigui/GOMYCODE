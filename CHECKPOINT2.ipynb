{
 "cells": [
  {
   "cell_type": "code",
   "execution_count": null,
   "id": "012636d3-5348-498a-9524-b28b74aa5bc4",
   "metadata": {},
   "outputs": [
    {
     "name": "stdin",
     "output_type": "stream",
     "text": [
      "entrez un nombre 50\n"
     ]
    },
    {
     "name": "stdout",
     "output_type": "stream",
     "text": [
      "votre estimation est trop basse\n"
     ]
    },
    {
     "name": "stdin",
     "output_type": "stream",
     "text": [
      "entrez un nombre 70\n"
     ]
    },
    {
     "name": "stdout",
     "output_type": "stream",
     "text": [
      "votre estimation est trop basse\n"
     ]
    },
    {
     "name": "stdin",
     "output_type": "stream",
     "text": [
      "entrez un nombre 90\n"
     ]
    },
    {
     "name": "stdout",
     "output_type": "stream",
     "text": [
      "votre estimation est trop elevé\n"
     ]
    }
   ],
   "source": [
    "# print('Bienvenue au jeu Devinez le nombre !')\n",
    "a=int(input('entrez un nombre'))\n",
    "import random\n",
    "b=random.randint(1,100)\n",
    "if a == b :\n",
    "    print('Félicitations ! Vous avez deviné le numéro correctement !')\n",
    "else:\n",
    "    while a != b :\n",
    "        if a < b : \n",
    "            print('votre estimation est trop basse')\n",
    "            a=int(input('entrez un nombre'))\n",
    "        elif a == b :\n",
    "            print ('Félicitations ! Vous avez deviné le numéro correctement !')\n",
    "            break\n",
    "        else:\n",
    "            print('votre estimation est trop elevé')\n",
    "            a=int(input('entrez un nombre'))\n",
    "        "
   ]
  },
  {
   "cell_type": "code",
   "execution_count": null,
   "id": "aded91a6-f577-49bd-bf17-6427f22d3a5e",
   "metadata": {},
   "outputs": [],
   "source": []
  }
 ],
 "metadata": {
  "kernelspec": {
   "display_name": "Python 3 (ipykernel)",
   "language": "python",
   "name": "python3"
  },
  "language_info": {
   "codemirror_mode": {
    "name": "ipython",
    "version": 3
   },
   "file_extension": ".py",
   "mimetype": "text/x-python",
   "name": "python",
   "nbconvert_exporter": "python",
   "pygments_lexer": "ipython3",
   "version": "3.12.4"
  }
 },
 "nbformat": 4,
 "nbformat_minor": 5
}
